{
 "cells": [
  {
   "attachments": {},
   "cell_type": "markdown",
   "id": "6e4c2a59",
   "metadata": {},
   "source": [
    "# Lung Cancer Prediction Project"
   ]
  },
  {
   "cell_type": "markdown",
   "id": "78c7b47a",
   "metadata": {},
   "source": [
    "## Loading and Exploring the data"
   ]
  },
  {
   "cell_type": "code",
   "execution_count": 53,
   "id": "b82a59d1",
   "metadata": {},
   "outputs": [],
   "source": [
    "import pandas as pd\n",
    "import numpy as np\n",
    "import seaborn as sns\n",
    "import matplotlib.pyplot as plt\n",
    "%matplotlib inline\n",
    "import warnings\n",
    "warnings.filterwarnings(\"ignore\")"
   ]
  },
  {
   "cell_type": "code",
   "execution_count": 54,
   "id": "4a37dc7c",
   "metadata": {},
   "outputs": [],
   "source": [
    "data = pd.read_csv(\"..\\Datasets\\lung_cancer.csv\")"
   ]
  },
  {
   "cell_type": "code",
   "execution_count": null,
   "id": "c0ff32d6",
   "metadata": {},
   "outputs": [],
   "source": [
    "data.head()"
   ]
  },
  {
   "cell_type": "markdown",
   "id": "4f9b1757",
   "metadata": {},
   "source": [
    "So we can see our various features and our target variable which is the column **'LUNG_CANCER'**"
   ]
  },
  {
   "cell_type": "code",
   "execution_count": null,
   "id": "c1da6cd3",
   "metadata": {},
   "outputs": [],
   "source": [
    "print(\"Shape of data: \", data.shape)"
   ]
  },
  {
   "cell_type": "markdown",
   "id": "52a18bae",
   "metadata": {},
   "source": [
    "We can see that the dataset contains 309 rows and 16 columns"
   ]
  },
  {
   "cell_type": "code",
   "execution_count": null,
   "id": "66deeeb6",
   "metadata": {},
   "outputs": [],
   "source": [
    "data.info()"
   ]
  },
  {
   "cell_type": "markdown",
   "id": "a7ebda93",
   "metadata": {},
   "source": [
    "### Datatype Conversion\n",
    "We can see that the LUNG_CANCER column is an object data type so we'll convert the data into numerical data type by converting **YES to 1** and **NO to 0**.\n",
    "\n",
    "We will also convert the other columns to numerical data types between 1 and 0 to help us when we're building the model."
   ]
  },
  {
   "cell_type": "code",
   "execution_count": null,
   "id": "e6529c4f",
   "metadata": {},
   "outputs": [],
   "source": [
    "data.loc[data['GENDER']=='M','GENDER'] = 1\n",
    "data.loc[data['GENDER']=='F','GENDER'] = 0\n",
    "data['GENDER'] = data['GENDER'].astype('int')\n",
    "data.head()\n"
   ]
  },
  {
   "cell_type": "code",
   "execution_count": null,
   "id": "f09966a0",
   "metadata": {},
   "outputs": [],
   "source": [
    "data.loc[data['LUNG_CANCER']=='YES','LUNG_CANCER'] = 1\n",
    "data.loc[data['LUNG_CANCER']=='NO','LUNG_CANCER'] = 0\n",
    "data['LUNG_CANCER'] = data['LUNG_CANCER'].astype('int')\n",
    "data.head()"
   ]
  },
  {
   "cell_type": "markdown",
   "id": "580baeb3",
   "metadata": {},
   "source": [
    "We have now changed the Gender and Lung_cancer columns to numerical values 1 and 0 where Male and having lung_cancer = 1 and Female and Not having Lung_Cancer = 0"
   ]
  },
  {
   "cell_type": "code",
   "execution_count": null,
   "id": "f1d25d53",
   "metadata": {},
   "outputs": [],
   "source": [
    "data.info()"
   ]
  },
  {
   "cell_type": "code",
   "execution_count": 61,
   "id": "2e9c40dd",
   "metadata": {},
   "outputs": [],
   "source": [
    "data[\"SMOKING\"].replace({2: 1, 1: 0}, inplace=True)\n",
    "data[\"YELLOW_FINGERS\"].replace({2: 1, 1: 0}, inplace=True)\n",
    "data[\"ANXIETY\"].replace({2: 1, 1: 0}, inplace=True)\n",
    "data[\"PEER_PRESSURE\"].replace({2: 1, 1: 0}, inplace=True)\n",
    "data[\"CHRONIC DISEASE\"].replace({2: 1, 1: 0}, inplace=True)\n",
    "data[\"FATIGUE \"].replace({2: 1, 1: 0}, inplace=True)\n",
    "data[\"ALLERGY \"].replace({2: 1, 1: 0}, inplace=True)\n",
    "data[\"WHEEZING\"].replace({2: 1, 1: 0}, inplace=True)\n",
    "data[\"ALCOHOL CONSUMING\"].replace({2: 1, 1: 0}, inplace=True)\n",
    "data[\"COUGHING\"].replace({2: 1, 1: 0}, inplace=True)\n",
    "data[\"SHORTNESS OF BREATH\"].replace({2: 1, 1: 0}, inplace=True)\n",
    "data[\"SWALLOWING DIFFICULTY\"].replace({2: 1, 1: 0}, inplace=True)\n",
    "data[\"CHEST PAIN\"].replace({2: 1, 1: 0}, inplace=True)"
   ]
  },
  {
   "cell_type": "code",
   "execution_count": null,
   "id": "816a9ff4",
   "metadata": {},
   "outputs": [],
   "source": [
    "data.sample(5)"
   ]
  },
  {
   "cell_type": "code",
   "execution_count": 63,
   "id": "b724e3a0",
   "metadata": {},
   "outputs": [],
   "source": [
    "data.rename(columns={\"CHRONIC DISEASE\": \"CHRONIC_DISEASE\",\n",
    "                   \"ALCOHOL CONSUMING\": 'ALCOHOL_CONSUMPTION',\n",
    "                    \"SHORTNESS OF BREATH\": \"SHORTNESS_OF_BREATH\",\n",
    "                    \"CHEST PAIN\":\"CHEST_PAIN\",\n",
    "                    \"SWALLOWING DIFFICULTY\": \"SWALLOWING_DIFFICULTY\"},\n",
    "          inplace=True, errors='raise')"
   ]
  },
  {
   "cell_type": "code",
   "execution_count": null,
   "id": "3ee3724a",
   "metadata": {},
   "outputs": [],
   "source": [
    "data.head()"
   ]
  },
  {
   "cell_type": "code",
   "execution_count": 65,
   "id": "5f3c7e5f",
   "metadata": {},
   "outputs": [],
   "source": [
    "data.to_csv(\"../Datasets/processed_lung_cancer.csv\")"
   ]
  },
  {
   "cell_type": "markdown",
   "id": "914f281d",
   "metadata": {},
   "source": [
    "We will also rename some columns so as to remove the white space in them"
   ]
  },
  {
   "cell_type": "markdown",
   "id": "e40d4c9a",
   "metadata": {},
   "source": [
    "We have now converted the variables from \"2\" and \"1\" to \"1\" and \"0\"."
   ]
  },
  {
   "cell_type": "code",
   "execution_count": null,
   "id": "423fc372",
   "metadata": {},
   "outputs": [],
   "source": [
    "data.isnull().sum()"
   ]
  },
  {
   "cell_type": "markdown",
   "id": "072bfe3a",
   "metadata": {},
   "source": [
    "We can see that the data does not contain any missing values."
   ]
  },
  {
   "cell_type": "code",
   "execution_count": null,
   "id": "0cec5410",
   "metadata": {},
   "outputs": [],
   "source": [
    "data.describe().T"
   ]
  },
  {
   "cell_type": "markdown",
   "id": "2ac29640",
   "metadata": {},
   "source": [
    "## Key Insights"
   ]
  },
  {
   "cell_type": "markdown",
   "id": "aa122fb2",
   "metadata": {},
   "source": [
    "A large portion of individuals in the dataset are diagnosed with lung cancer (LUNG_CANCER mean = 0.874).\n",
    "\n",
    "Variables like FATIGUE and SHORTNESS_OF_BREATH have high means (0.673 and 0.641), suggesting frequent occurrence.\n",
    "\n",
    "AGE has a significant range (21–87), with an older average population."
   ]
  },
  {
   "cell_type": "markdown",
   "id": "514a9292",
   "metadata": {},
   "source": [
    "## Exploratory Data Analysis"
   ]
  },
  {
   "cell_type": "code",
   "execution_count": null,
   "id": "b54b24be",
   "metadata": {},
   "outputs": [],
   "source": [
    "len_lung_cancer = len(data['LUNG_CANCER'][data.LUNG_CANCER == 1])\n",
    "len_not_lung_cancer = len(data['LUNG_CANCER'][data.LUNG_CANCER == 0])\n",
    "\n",
    "arr = np.array([len_lung_cancer, len_not_lung_cancer])\n",
    "labels = ['Has Lung Cancer',\"Doesn't have Lung Cancer\"]\n",
    "print('Total No. of Non-Lung Cancer Cases: ', len_not_lung_cancer)\n",
    "print('Total No. of Lung Cancer cases: ', len_lung_cancer)\n",
    "\n",
    "plt.pie(arr, labels = labels, explode=[0.3, 0.0], shadow = True, autopct='%1.1f%%',)\n",
    "plt.savefig(\"../Charts/Cancer Analysis.png\", bbox_inches='tight')\n",
    "plt.show()"
   ]
  },
  {
   "cell_type": "markdown",
   "id": "698eb351",
   "metadata": {},
   "source": [
    "The Pie Chart helps us to see clearly the ratio of people with lung cancer and people who do not have lung cancer. \n"
   ]
  },
  {
   "cell_type": "code",
   "execution_count": null,
   "id": "2762d86d",
   "metadata": {},
   "outputs": [],
   "source": [
    "fig, ax = plt.subplots(figsize=(18,18))\n",
    "sns.set_context('poster')\n",
    "corr = data.corr()\n",
    "sns.heatmap(corr, xticklabels=corr.columns, yticklabels=corr.columns,cmap='Blues', annot=True, square=True, annot_kws={\"size\":15})\n",
    "ax.set_title('Collinearity of Lung Cancer Attributes\\n')\n",
    "\n",
    "ax.set_xticklabels(ax.get_xticklabels(), fontsize=11) \n",
    "ax.set_yticklabels(ax.get_yticklabels(), fontsize=11) \n",
    "\n",
    "corr_table = corr.unstack().reset_index()\n",
    "corr_table.columns = ['Feature 1', 'Feature 2', 'Correlation']\n",
    "corr_table = corr_table[corr_table['Feature 1'] != corr_table['Feature 2']]\n",
    "corr_table = corr_table.sort_values(by='Correlation', ascending=False)\n",
    "# print top 10 positive correlations\n",
    "print(corr_table.head(3))\n",
    "# print top 10 negative correlations\n",
    "print(corr_table.tail(3))\n",
    "# print top positive correlated features with LUNG_CANCER\n",
    "print(corr_table[corr_table['Feature 1'] == 'LUNG_CANCER'].sort_values(by='Correlation', ascending=False).head(10))\n",
    "plt.savefig('../Charts/HeatMap1.png', bbox_inches='tight')"
   ]
  },
  {
   "cell_type": "markdown",
   "id": "43bbba8c",
   "metadata": {},
   "source": [
    "## Insights from the Heatmap"
   ]
  },
  {
   "cell_type": "markdown",
   "id": "0bb6cd2b",
   "metadata": {},
   "source": [
    "Strong Positive Correlations:\n",
    "YELLOW_FINGERS and ANXIETY have the highest positive correlation (0.5658), suggesting a notable link between the two.\n",
    "\n",
    "Moderate Positive Correlations with LUNG_CANCER:\n",
    "ALLERGY (0.3278) and ALCOHOL_CONSUMPTION (0.2885) show moderate positive correlations with lung cancer.\n",
    "\n",
    "Weak Positive Correlations with LUNG_CANCER:\n",
    "SWALLOWING_DIFFICULTY (0.2597) and WHEEZING (0.2493) also show weak but relevant associations.\n",
    "\n",
    "Lowest Correlation with LUNG_CANCER:\n",
    "ANXIETY (0.1449) and FATIGUE (0.1507) have the weakest association."
   ]
  },
  {
   "cell_type": "code",
   "execution_count": null,
   "id": "274d63c7",
   "metadata": {},
   "outputs": [],
   "source": [
    "ax = sns.barplot(x=data['LUNG_CANCER'], y=data['ALLERGY '])\n",
    "plt.xlabel(\"LUNG_CANCER\", fontsize=14)\n",
    "plt.ylabel(\"ALLERGY\", fontsize=14)\n",
    "plt.title(\"Relationship Between Allergy and Lung Cancer\", fontsize=14)\n",
    "plt.savefig('../Charts//Relationship Between Allergy and Lung Cancer.png', bbox_inches='tight')\n",
    "plt.show()\n",
    "\n",
    "ax = sns.barplot(x=data['LUNG_CANCER'], y=data['ALCOHOL_CONSUMPTION'])\n",
    "plt.xlabel(\"LUNG_CANCER\", fontsize=14)\n",
    "plt.ylabel(\"ALCOHOL_CONSUMPTION\", fontsize=14)\n",
    "plt.title(\"Relationship Between Alcohol Consumption and Lung Cancer\", fontsize=14)\n",
    "plt.savefig('../Charts/Relationship Between Alcohol Consumption and Lung Cancer.png', bbox_inches='tight')\n",
    "plt.show()\n",
    "\n"
   ]
  },
  {
   "cell_type": "code",
   "execution_count": null,
   "id": "b71d8eeb",
   "metadata": {},
   "outputs": [],
   "source": [
    "# age distribution plot\n",
    "sns.histplot(data['AGE'])\n",
    "plt.savefig('../Charts/ageplot.png', bbox_inches='tight')\n",
    "plt.show()"
   ]
  },
  {
   "cell_type": "markdown",
   "id": "e867a4ce",
   "metadata": {},
   "source": [
    "## Splitting the Data"
   ]
  },
  {
   "cell_type": "code",
   "execution_count": null,
   "id": "81b77fd0",
   "metadata": {},
   "outputs": [],
   "source": [
    "from sklearn.model_selection import train_test_split\n",
    "\n",
    "X = data.drop(\"LUNG_CANCER\", axis = 1)\n",
    "y = data.LUNG_CANCER\n",
    "\n",
    "print(\"Shape of X: \", X.shape)\n",
    "print(\"Shape of y: \", y.shape)"
   ]
  },
  {
   "cell_type": "code",
   "execution_count": 73,
   "id": "87d82755",
   "metadata": {},
   "outputs": [],
   "source": [
    "X_train, X_test, y_train, y_test = train_test_split(X, y, test_size = 0.2, random_state = 0)"
   ]
  },
  {
   "cell_type": "markdown",
   "id": "9601f47f",
   "metadata": {},
   "source": [
    "## Feature Engineering"
   ]
  },
  {
   "cell_type": "code",
   "execution_count": 74,
   "id": "bba490f2",
   "metadata": {},
   "outputs": [],
   "source": [
    "def add_interaction(X):\n",
    "    features = X.columns\n",
    "    n = len(features)\n",
    "    X_int = X.copy(deep=True)\n",
    "    \n",
    "    for i in range(n):\n",
    "        feature_i_name = features[i]\n",
    "        feature_i_data = X[feature_i_name]\n",
    "        \n",
    "        for j in range(i+1, n):\n",
    "            feature_j_name = features[j]\n",
    "            feature_j_data = X[feature_j_name]\n",
    "            feature_i_j_name = feature_i_name+\"_x_\"+feature_j_name\n",
    "            X_int[feature_i_j_name] = feature_i_data * feature_j_data\n",
    "            \n",
    "    return X_int\n",
    "\n",
    "x_train_mod = add_interaction(X_train)\n",
    "x_test_mod = add_interaction(X_test)"
   ]
  },
  {
   "cell_type": "markdown",
   "id": "c2b9fa78",
   "metadata": {},
   "source": [
    "What the above function does is that it creates more feature columns by multiplying each column with another column and creates a new column for the product."
   ]
  },
  {
   "cell_type": "code",
   "execution_count": null,
   "id": "5c8e0d3b",
   "metadata": {},
   "outputs": [],
   "source": [
    "x_train_mod.head()"
   ]
  },
  {
   "cell_type": "markdown",
   "id": "7cf8d39c",
   "metadata": {},
   "source": [
    "We can now see that we have 120 columns for the modified training set after applying the function."
   ]
  },
  {
   "cell_type": "markdown",
   "id": "db6e051a",
   "metadata": {},
   "source": [
    "## Model Building\n",
    "The evaluate_model function below will be used to evaluate the accuracy of our model and also give the confusion matrix of our model."
   ]
  },
  {
   "cell_type": "code",
   "execution_count": 105,
   "id": "32448f4e",
   "metadata": {},
   "outputs": [],
   "source": [
    "from sklearn.metrics import confusion_matrix, accuracy_score, precision_score, recall_score\n",
    "\n",
    "def evaluate_model(y_test, y_pred):\n",
    "    print(\"Accuracy Score: \", accuracy_score(y_test, y_pred))\n",
    "    print(\"Precision Score: \", precision_score(y_test, y_pred))\n",
    "    print(\"Recall Score: \", recall_score(y_test, y_pred))\n",
    "    print(\"Confusion Matrix: \", confusion_matrix(y_test, y_pred))\n",
    "    \n",
    "    df = {'y_Actual': y_test, 'y_Predicted': y_pred}\n",
    "\n",
    "    df1 = pd.DataFrame(df, columns = ['y_Actual','y_Predicted'])\n",
    "\n",
    "    clf_confusion_matrix = pd.crosstab(df['y_Predicted'], df['y_Actual'], rownames = ['Predicted'], colnames=['Actual'])\n",
    "\n",
    "    sns.heatmap(clf_confusion_matrix, annot=True)\n",
    "    plt.savefig('../Charts/confusion Matriz.png', bbox_inches='tight')\n",
    "    "
   ]
  },
  {
   "cell_type": "markdown",
   "id": "2846fcf7",
   "metadata": {},
   "source": [
    "### Logistic Regression\n",
    "We will be using the Logistic Regression model as a baseline model."
   ]
  },
  {
   "cell_type": "code",
   "execution_count": 77,
   "id": "dde2a2e4",
   "metadata": {},
   "outputs": [],
   "source": [
    "from sklearn.linear_model import LogisticRegression\n",
    "\n",
    "lr_clf = LogisticRegression(max_iter = 1000)\n",
    "lr_clf.fit(X_train, y_train)\n",
    "\n",
    "lr_clf_pred = lr_clf.predict(X_test)"
   ]
  },
  {
   "cell_type": "code",
   "execution_count": null,
   "id": "c860fea8",
   "metadata": {},
   "outputs": [],
   "source": [
    "y_pred = lr_clf.predict(X_test)\n",
    "evaluate_model(y_test, y_pred)"
   ]
  },
  {
   "cell_type": "markdown",
   "id": "11170178",
   "metadata": {},
   "source": [
    "Building Logistic Regression model with standardiser"
   ]
  },
  {
   "cell_type": "code",
   "execution_count": null,
   "id": "2e677a67",
   "metadata": {},
   "outputs": [],
   "source": [
    "from sklearn.pipeline import make_pipeline\n",
    "from sklearn.preprocessing import StandardScaler\n",
    "\n",
    "lr_clf_pipe = make_pipeline(StandardScaler(), LogisticRegression())\n",
    "lr_clf_pipe.fit(X_train, y_train)\n",
    "\n",
    "y_pred1 = lr_clf_pipe.predict(X_test)\n",
    "evaluate_model(y_test, y_pred1)"
   ]
  },
  {
   "cell_type": "markdown",
   "metadata": {},
   "source": [
    "# Importing Data for Finding Cancer Stage"
   ]
  },
  {
   "cell_type": "code",
   "execution_count": 80,
   "metadata": {
    "execution": {
     "iopub.execute_input": "2022-10-10T09:51:02.660207Z",
     "iopub.status.busy": "2022-10-10T09:51:02.659812Z",
     "iopub.status.idle": "2022-10-10T09:51:02.745898Z",
     "shell.execute_reply": "2022-10-10T09:51:02.744628Z",
     "shell.execute_reply.started": "2022-10-10T09:51:02.660172Z"
    },
    "trusted": true
   },
   "outputs": [],
   "source": [
    "df=pd.read_csv('../Datasets/lung_cancer_for_stage.csv')"
   ]
  },
  {
   "cell_type": "markdown",
   "metadata": {},
   "source": [
    "# Data outline and preprocessing"
   ]
  },
  {
   "cell_type": "code",
   "execution_count": null,
   "metadata": {
    "execution": {
     "iopub.execute_input": "2022-10-10T09:51:02.7483Z",
     "iopub.status.busy": "2022-10-10T09:51:02.747624Z",
     "iopub.status.idle": "2022-10-10T09:51:02.787071Z",
     "shell.execute_reply": "2022-10-10T09:51:02.785928Z",
     "shell.execute_reply.started": "2022-10-10T09:51:02.748263Z"
    },
    "trusted": true
   },
   "outputs": [],
   "source": [
    "df.info()"
   ]
  },
  {
   "cell_type": "code",
   "execution_count": null,
   "metadata": {
    "execution": {
     "iopub.execute_input": "2022-10-10T09:51:02.790267Z",
     "iopub.status.busy": "2022-10-10T09:51:02.789918Z",
     "iopub.status.idle": "2022-10-10T09:51:02.810411Z",
     "shell.execute_reply": "2022-10-10T09:51:02.809035Z",
     "shell.execute_reply.started": "2022-10-10T09:51:02.790235Z"
    },
    "trusted": true
   },
   "outputs": [],
   "source": [
    "df.head()"
   ]
  },
  {
   "cell_type": "code",
   "execution_count": null,
   "metadata": {
    "execution": {
     "iopub.execute_input": "2022-10-10T09:51:02.813141Z",
     "iopub.status.busy": "2022-10-10T09:51:02.811904Z",
     "iopub.status.idle": "2022-10-10T09:51:02.824081Z",
     "shell.execute_reply": "2022-10-10T09:51:02.822809Z",
     "shell.execute_reply.started": "2022-10-10T09:51:02.813096Z"
    },
    "trusted": true
   },
   "outputs": [],
   "source": [
    "df['stage_of_cancer'].unique()"
   ]
  },
  {
   "cell_type": "markdown",
   "metadata": {},
   "source": [
    "**Convert 'stage_of_cancer' to 0, 1, 2,3 and 4**"
   ]
  },
  {
   "cell_type": "code",
   "execution_count": 84,
   "metadata": {
    "execution": {
     "iopub.execute_input": "2022-10-10T09:51:02.825664Z",
     "iopub.status.busy": "2022-10-10T09:51:02.825333Z",
     "iopub.status.idle": "2022-10-10T09:51:02.850926Z",
     "shell.execute_reply": "2022-10-10T09:51:02.849676Z",
     "shell.execute_reply.started": "2022-10-10T09:51:02.825636Z"
    },
    "trusted": true
   },
   "outputs": [],
   "source": [
    "df['stage_of_cancer'] = df['stage_of_cancer'].replace({'IA': 1, 'IB' : 1,'IIA':2,'IIB':2,'IIIA':3,'IIIB':3,'IV':4})\n",
    "df['smoker'] = df['smoker'].replace({'Current':1,'Former':0})"
   ]
  },
  {
   "cell_type": "code",
   "execution_count": 85,
   "metadata": {
    "execution": {
     "iopub.execute_input": "2022-10-10T09:51:02.852933Z",
     "iopub.status.busy": "2022-10-10T09:51:02.852411Z",
     "iopub.status.idle": "2022-10-10T09:51:02.866255Z",
     "shell.execute_reply": "2022-10-10T09:51:02.864937Z",
     "shell.execute_reply.started": "2022-10-10T09:51:02.852899Z"
    },
    "trusted": true
   },
   "outputs": [],
   "source": [
    "df=df.fillna({'stage_of_cancer': 0, 'days_to_cancer': 0, 'race': 'Others'})"
   ]
  },
  {
   "cell_type": "code",
   "execution_count": 86,
   "metadata": {
    "execution": {
     "iopub.execute_input": "2022-10-10T09:51:02.86769Z",
     "iopub.status.busy": "2022-10-10T09:51:02.867385Z",
     "iopub.status.idle": "2022-10-10T09:51:02.876571Z",
     "shell.execute_reply": "2022-10-10T09:51:02.87531Z",
     "shell.execute_reply.started": "2022-10-10T09:51:02.867663Z"
    },
    "trusted": true
   },
   "outputs": [],
   "source": [
    "df[['stage_of_cancer', 'days_to_cancer']] = df[['stage_of_cancer', 'days_to_cancer']].astype('int')"
   ]
  },
  {
   "cell_type": "code",
   "execution_count": null,
   "metadata": {
    "execution": {
     "iopub.execute_input": "2022-10-10T09:51:02.878942Z",
     "iopub.status.busy": "2022-10-10T09:51:02.878301Z",
     "iopub.status.idle": "2022-10-10T09:51:02.902921Z",
     "shell.execute_reply": "2022-10-10T09:51:02.901652Z",
     "shell.execute_reply.started": "2022-10-10T09:51:02.878908Z"
    },
    "trusted": true
   },
   "outputs": [],
   "source": [
    "df.info()"
   ]
  },
  {
   "cell_type": "markdown",
   "metadata": {},
   "source": [
    "**Pairplot of features**"
   ]
  },
  {
   "cell_type": "code",
   "execution_count": null,
   "metadata": {
    "execution": {
     "iopub.execute_input": "2022-10-10T09:51:02.910081Z",
     "iopub.status.busy": "2022-10-10T09:51:02.909268Z",
     "iopub.status.idle": "2022-10-10T09:51:06.916232Z",
     "shell.execute_reply": "2022-10-10T09:51:06.915344Z",
     "shell.execute_reply.started": "2022-10-10T09:51:02.910022Z"
    },
    "trusted": true
   },
   "outputs": [],
   "source": [
    "sns.set(style=\"whitegrid\", palette=\"muted\")\n",
    "pairplot = sns.pairplot(df.drop(columns=['pid','smoker']), diag_kind=\"kde\", plot_kws={'alpha':0.6, 's':20, 'edgecolor':'k'}, height=2.5)\n",
    "pairplot.fig.suptitle(\"Pairplot of Features\", y=1.02)\n",
    "plt.savefig('../Charts/pairplot.png', bbox_inches='tight')\n",
    "plt.show()"
   ]
  },
  {
   "cell_type": "markdown",
   "metadata": {},
   "source": [
    "**Heatmap of correlation**"
   ]
  },
  {
   "cell_type": "code",
   "execution_count": null,
   "metadata": {
    "execution": {
     "iopub.execute_input": "2022-10-10T09:51:06.917712Z",
     "iopub.status.busy": "2022-10-10T09:51:06.917352Z",
     "iopub.status.idle": "2022-10-10T09:51:07.122627Z",
     "shell.execute_reply": "2022-10-10T09:51:07.121486Z",
     "shell.execute_reply.started": "2022-10-10T09:51:06.917681Z"
    },
    "trusted": true
   },
   "outputs": [],
   "source": [
    "sns.heatmap(df.drop(columns=['pid','race','gender']).corr(),cbar=False, cmap='Blues', fmt='.1f',annot=True, square=True, annot_kws={\"size\":15})\n",
    "plt.title(\"Correlation Matrix\")\n",
    "plt.savefig('../Charts/Correlation Matrix.png', bbox_inches='tight')"
   ]
  },
  {
   "cell_type": "markdown",
   "metadata": {},
   "source": [
    "**The number of each stages**"
   ]
  },
  {
   "cell_type": "code",
   "execution_count": null,
   "metadata": {
    "execution": {
     "iopub.execute_input": "2022-10-10T09:51:07.124532Z",
     "iopub.status.busy": "2022-10-10T09:51:07.124167Z",
     "iopub.status.idle": "2022-10-10T09:51:07.135268Z",
     "shell.execute_reply": "2022-10-10T09:51:07.133876Z",
     "shell.execute_reply.started": "2022-10-10T09:51:07.124498Z"
    },
    "trusted": true
   },
   "outputs": [],
   "source": [
    "df.groupby('stage_of_cancer')['stage_of_cancer'].count()"
   ]
  },
  {
   "cell_type": "code",
   "execution_count": null,
   "metadata": {
    "execution": {
     "iopub.execute_input": "2022-10-10T09:51:07.13766Z",
     "iopub.status.busy": "2022-10-10T09:51:07.13722Z",
     "iopub.status.idle": "2022-10-10T09:51:07.352697Z",
     "shell.execute_reply": "2022-10-10T09:51:07.351473Z",
     "shell.execute_reply.started": "2022-10-10T09:51:07.137618Z"
    },
    "trusted": true
   },
   "outputs": [],
   "source": [
    "df.groupby('stage_of_cancer')['stage_of_cancer'].count().plot.barh()\n",
    "plt.xlabel('Count')\n",
    "plt.ylabel('Stage of Cancer')\n",
    "plt.title('Distribution of Stage of Cancer')\n",
    "plt.savefig('../Charts/Distribution of Stage of Cancer.png', bbox_inches='tight')\n",
    "plt.show()"
   ]
  },
  {
   "cell_type": "code",
   "execution_count": null,
   "metadata": {
    "execution": {
     "iopub.execute_input": "2022-10-10T09:51:07.355121Z",
     "iopub.status.busy": "2022-10-10T09:51:07.354268Z",
     "iopub.status.idle": "2022-10-10T09:51:09.649006Z",
     "shell.execute_reply": "2022-10-10T09:51:09.647828Z",
     "shell.execute_reply.started": "2022-10-10T09:51:07.355082Z"
    },
    "trusted": true
   },
   "outputs": [],
   "source": [
    "col=['age', 'gender', 'race', 'smoker', 'days_to_cancer']\n",
    "fig = plt.figure(figsize=(15,15))\n",
    "\n",
    "for i in range(len(col)):\n",
    "    plt.subplot(3,2,i+1)\n",
    "    plt.title(col[i])\n",
    "    sns.histplot(data=df,y=df[col[i]],hue='stage_of_cancer')\n",
    "\n",
    "plt.tight_layout()\n",
    "plt.savefig('../Charts/Distribution of Features.png', bbox_inches='tight')\n",
    "plt.show()"
   ]
  },
  {
   "cell_type": "markdown",
   "metadata": {},
   "source": [
    "**The number of non cancer (0) is very huge, so I should drop 0 to analize the features of each stage Ⅰ to Ⅳ.**"
   ]
  },
  {
   "cell_type": "markdown",
   "metadata": {},
   "source": [
    "# Stage Ⅰ to Ⅳ Analysis"
   ]
  },
  {
   "cell_type": "markdown",
   "metadata": {},
   "source": [
    "**Dataset which does not include \"non cancer\"**"
   ]
  },
  {
   "cell_type": "code",
   "execution_count": 93,
   "metadata": {
    "execution": {
     "iopub.execute_input": "2022-10-10T09:51:09.650972Z",
     "iopub.status.busy": "2022-10-10T09:51:09.65053Z",
     "iopub.status.idle": "2022-10-10T09:51:09.658795Z",
     "shell.execute_reply": "2022-10-10T09:51:09.657738Z",
     "shell.execute_reply.started": "2022-10-10T09:51:09.650927Z"
    },
    "trusted": true
   },
   "outputs": [],
   "source": [
    "df1=df"
   ]
  },
  {
   "cell_type": "markdown",
   "metadata": {},
   "source": [
    "**Pairplot of features**"
   ]
  },
  {
   "cell_type": "code",
   "execution_count": null,
   "metadata": {
    "execution": {
     "iopub.execute_input": "2022-10-10T09:51:09.660559Z",
     "iopub.status.busy": "2022-10-10T09:51:09.660213Z",
     "iopub.status.idle": "2022-10-10T09:51:11.669049Z",
     "shell.execute_reply": "2022-10-10T09:51:11.667753Z",
     "shell.execute_reply.started": "2022-10-10T09:51:09.660527Z"
    },
    "trusted": true
   },
   "outputs": [],
   "source": [
    "sns.pairplot(df1.drop(columns=['pid','smoker']))\n",
    "plt.savefig('../Charts/pairplot1.png', bbox_inches='tight')"
   ]
  },
  {
   "cell_type": "markdown",
   "metadata": {},
   "source": [
    "**Histplot of features by stage**"
   ]
  },
  {
   "cell_type": "code",
   "execution_count": null,
   "metadata": {
    "execution": {
     "iopub.execute_input": "2022-10-10T09:51:11.671774Z",
     "iopub.status.busy": "2022-10-10T09:51:11.670649Z",
     "iopub.status.idle": "2022-10-10T09:51:12.994681Z",
     "shell.execute_reply": "2022-10-10T09:51:12.993431Z",
     "shell.execute_reply.started": "2022-10-10T09:51:11.671727Z"
    },
    "trusted": true
   },
   "outputs": [],
   "source": [
    "col=['age', 'gender', 'race', 'smoker', 'days_to_cancer']\n",
    "fig = plt.figure(figsize=(15,15))\n",
    "\n",
    "for i in range(len(col)):\n",
    "    plt.subplot(3,2,i+1)\n",
    "    plt.title(col[i])\n",
    "    sns.histplot(data=df1,y=df1[col[i]],hue='stage_of_cancer')\n",
    "\n",
    "plt.tight_layout()\n",
    "plt.savefig('../Charts/Distribution of Features1.png', bbox_inches='tight')\n",
    "plt.show()"
   ]
  },
  {
   "cell_type": "markdown",
   "metadata": {},
   "source": [
    "**High stage is found more in Male, Current Smoker and longer days to cancer.**"
   ]
  },
  {
   "cell_type": "markdown",
   "metadata": {},
   "source": [
    "# Smoker Lung Cancer Stage Classification Model"
   ]
  },
  {
   "cell_type": "markdown",
   "metadata": {},
   "source": [
    "**Convert categorical variable into dummy/indicator variables**"
   ]
  },
  {
   "cell_type": "code",
   "execution_count": null,
   "metadata": {
    "execution": {
     "iopub.execute_input": "2022-10-10T10:53:35.880042Z",
     "iopub.status.busy": "2022-10-10T10:53:35.879084Z",
     "iopub.status.idle": "2022-10-10T10:53:35.904334Z",
     "shell.execute_reply": "2022-10-10T10:53:35.903021Z",
     "shell.execute_reply.started": "2022-10-10T10:53:35.88Z"
    },
    "trusted": true
   },
   "outputs": [],
   "source": [
    "df2=pd.get_dummies(df1)\n",
    "df2=df2.reset_index(drop=True)\n",
    "df2.head()"
   ]
  },
  {
   "cell_type": "code",
   "execution_count": null,
   "id": "9df0251b",
   "metadata": {},
   "outputs": [],
   "source": [
    "#replace all True values with 1 and False values with 0\n",
    "df2=df2.replace({True:1,False:0})\n",
    "df2.head()"
   ]
  },
  {
   "cell_type": "markdown",
   "metadata": {},
   "source": [
    "**Split data to X and y**"
   ]
  },
  {
   "cell_type": "code",
   "execution_count": 98,
   "id": "202d8591",
   "metadata": {},
   "outputs": [],
   "source": [
    "df2.to_csv('../Datasets/processed_lung_cancer_stage.csv')"
   ]
  },
  {
   "cell_type": "code",
   "execution_count": null,
   "metadata": {
    "execution": {
     "iopub.execute_input": "2022-10-10T10:53:35.906912Z",
     "iopub.status.busy": "2022-10-10T10:53:35.906069Z",
     "iopub.status.idle": "2022-10-10T10:53:35.914022Z",
     "shell.execute_reply": "2022-10-10T10:53:35.912764Z",
     "shell.execute_reply.started": "2022-10-10T10:53:35.906876Z"
    },
    "trusted": true
   },
   "outputs": [],
   "source": [
    "X= df2.drop(['pid','stage_of_cancer'],axis=1)\n",
    "y= df2['stage_of_cancer']\n",
    "print(\"Shape of X: \", X.shape)\n",
    "print(\"Shape of y: \", y.shape)"
   ]
  },
  {
   "cell_type": "markdown",
   "metadata": {},
   "source": [
    "**Split X,y to train and test**"
   ]
  },
  {
   "cell_type": "code",
   "execution_count": 100,
   "metadata": {
    "execution": {
     "iopub.execute_input": "2022-10-10T10:53:35.929817Z",
     "iopub.status.busy": "2022-10-10T10:53:35.929081Z",
     "iopub.status.idle": "2022-10-10T10:53:35.937347Z",
     "shell.execute_reply": "2022-10-10T10:53:35.936363Z",
     "shell.execute_reply.started": "2022-10-10T10:53:35.929778Z"
    },
    "trusted": true
   },
   "outputs": [],
   "source": [
    "X_train,X_test,y_train,y_test= train_test_split(X,y,random_state=0,test_size=0.2)"
   ]
  },
  {
   "cell_type": "markdown",
   "metadata": {},
   "source": [
    "**Standardization**"
   ]
  },
  {
   "cell_type": "code",
   "execution_count": 101,
   "metadata": {
    "execution": {
     "iopub.execute_input": "2022-10-10T10:53:35.939762Z",
     "iopub.status.busy": "2022-10-10T10:53:35.939315Z",
     "iopub.status.idle": "2022-10-10T10:53:35.955501Z",
     "shell.execute_reply": "2022-10-10T10:53:35.95438Z",
     "shell.execute_reply.started": "2022-10-10T10:53:35.939729Z"
    },
    "trusted": true
   },
   "outputs": [],
   "source": [
    "from sklearn.preprocessing import StandardScaler\n",
    "scaler= StandardScaler()\n",
    "X_train_sc= scaler.fit_transform(X_train)\n",
    "X_test_sc = scaler.transform(X_test)"
   ]
  },
  {
   "cell_type": "markdown",
   "id": "ed24e729",
   "metadata": {},
   "source": [
    "**Random Forest**"
   ]
  },
  {
   "cell_type": "code",
   "execution_count": null,
   "metadata": {
    "execution": {
     "iopub.execute_input": "2022-10-10T10:53:36.24236Z",
     "iopub.status.busy": "2022-10-10T10:53:36.241939Z",
     "iopub.status.idle": "2022-10-10T10:53:36.655379Z",
     "shell.execute_reply": "2022-10-10T10:53:36.654219Z",
     "shell.execute_reply.started": "2022-10-10T10:53:36.242329Z"
    },
    "trusted": true
   },
   "outputs": [],
   "source": [
    "from sklearn.ensemble import RandomForestClassifier\n",
    "\n",
    "clf = RandomForestClassifier(random_state=0)\n",
    "clf.fit(X_train_sc, y_train)\n",
    "y_pred = clf.predict(X_test_sc)\n",
    "\n",
    "from sklearn.metrics import accuracy_score, confusion_matrix, classification_report\n",
    "print(\"Accuracy Score: \", accuracy_score(y_test, y_pred))\n",
    "print(\"Precision Score: \", precision_score(y_test, y_pred, average='weighted'))\n",
    "print(\"Confusion Matrix: \", confusion_matrix(y_test, y_pred))\n",
    "print(\"Classification Report: \", classification_report(y_test, y_pred))\n",
    "\n",
    "\n"
   ]
  },
  {
   "cell_type": "markdown",
   "id": "cd612ea7",
   "metadata": {},
   "source": [
    "## Risk for cancer"
   ]
  },
  {
   "cell_type": "code",
   "execution_count": null,
   "id": "bdf883d7",
   "metadata": {},
   "outputs": [],
   "source": [
    "from sklearn.linear_model import LinearRegression\n",
    "from sklearn.metrics import mean_squared_error, r2_score\n",
    "\n",
    "X= df2.drop(['pid','days_to_cancer'],axis=1)\n",
    "y= df2['days_to_cancer']\n",
    "print(\"Shape of X: \", X.shape)\n",
    "print(\"Shape of y: \", y.shape)\n",
    "\n",
    "X_train,X_test,y_train,y_test= train_test_split(X,y,random_state=0,test_size=0.2)\n",
    "\n",
    "scaler= StandardScaler()\n",
    "X_train_sc= scaler.fit_transform(X_train)\n",
    "X_test_sc = scaler.transform(X_test)\n",
    "\n",
    "lr = LinearRegression()\n",
    "lr.fit(X_train_sc, y_train)\n",
    "y_pred = lr.predict(X_test_sc)\n",
    "\n",
    "print(\"accuracy Score\",lr.score(X_test_sc,y_test))\n",
    "print(\"precision score\",r2_score(y_test,y_pred))\n",
    "\n",
    "plt.scatter(y_test, y_pred)\n",
    "plt.xlabel(\"Actual Days to Cancer\")\n",
    "plt.ylabel(\"Predicted Days to Cancer\")\n",
    "plt.title(\"Actual vs Predicted Days to Cancer\")\n",
    "plt.savefig('../Charts/Actual vs Predicted Days to Cancer.png', bbox_inches='tight')\n",
    "plt.show()\n",
    "\n"
   ]
  },
  {
   "cell_type": "code",
   "execution_count": null,
   "id": "f99c3e78",
   "metadata": {},
   "outputs": [],
   "source": []
  }
 ],
 "metadata": {
  "kernelspec": {
   "display_name": "Python 3",
   "language": "python",
   "name": "python3"
  },
  "language_info": {
   "codemirror_mode": {
    "name": "ipython",
    "version": 3
   },
   "file_extension": ".py",
   "mimetype": "text/x-python",
   "name": "python",
   "nbconvert_exporter": "python",
   "pygments_lexer": "ipython3",
   "version": "3.13.1"
  }
 },
 "nbformat": 4,
 "nbformat_minor": 5
}
